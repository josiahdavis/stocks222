{
 "cells": [
  {
   "cell_type": "markdown",
   "metadata": {
    "deletable": true,
    "editable": true
   },
   "source": [
    "# Statistical Factor Modeling"
   ]
  },
  {
   "cell_type": "markdown",
   "metadata": {},
   "source": [
    "### Orthogonal Factor Model with $m$ Common Factors\n",
    "$$X = \\mu + L F + \\epsilon$$\n",
    "\n",
    "* $\\mu_i$ = mean of variable i\n",
    "* $\\epsilon_i$ = ith specific factor\n",
    "* $F_j$ = jth common factor\n",
    "* $l_{ij}$ = loading of the ith variable on the jth factor\n",
    "\n",
    "The unobservable random vectors $F$ and $\\epsilon$ satisfy the following conditions:\n",
    "\n",
    "$F$ and $\\epsilon$ are independent\n",
    "\n",
    "$E(F)=0,Cov(F)=I$\n",
    "\n",
    "$E(\\epsilon)=0,Cov(\\epsilon)=\\Psi$, where $\\Psi$ is a diagonal matrix"
   ]
  },
  {
   "cell_type": "markdown",
   "metadata": {
    "deletable": true,
    "editable": true
   },
   "source": [
    "### Covariance Structure for the Orthogonal Factor Model\n",
    "\n",
    "$$Cov(X) = L L' + \\Psi$$\n",
    "\n",
    "$$Cov(X,F)=L$$\n",
    "\n",
    "* $L$ is $p$ variables by $m$ factors matrix of factor loadings (`model.components_.T`)\n",
    "* $\\Psi$ is $p$ variables by $p$ variables diagonal matrix of specific variance (`model.noise_variance_`)\n",
    "\n",
    "Reference: pp. 516-517 of [Applied Multivariate Statistical Analysis](https://www.amazon.com/Applied-Multivariate-Statistical-Analysis-6th/dp/0131877151)"
   ]
  },
  {
   "cell_type": "markdown",
   "metadata": {
    "deletable": true,
    "editable": true
   },
   "source": [
    "### 1) Toy Model"
   ]
  },
  {
   "cell_type": "code",
   "execution_count": 88,
   "metadata": {
    "collapsed": false,
    "deletable": true,
    "editable": true
   },
   "outputs": [],
   "source": [
    "from sklearn.decomposition import FactorAnalysis # Primary package\n",
    "from sklearn.datasets import load_iris\n",
    "from sklearn import preprocessing\n",
    "import numpy as np\n",
    "import pandas as pd"
   ]
  },
  {
   "cell_type": "code",
   "execution_count": 89,
   "metadata": {
    "collapsed": false
   },
   "outputs": [],
   "source": [
    "X = load_iris().data # n obervations by p variables matrix"
   ]
  },
  {
   "cell_type": "code",
   "execution_count": 95,
   "metadata": {
    "collapsed": false,
    "deletable": true,
    "editable": true,
    "scrolled": true
   },
   "outputs": [],
   "source": [
    "# Run the factor analysis with m = three factors\n",
    "model = FactorAnalysis(n_components=3, random_state=101).fit(X)\n",
    "psi = np.diag(model.noise_variance_)\n",
    "L = model.components_.T"
   ]
  },
  {
   "cell_type": "code",
   "execution_count": 96,
   "metadata": {
    "collapsed": false
   },
   "outputs": [
    {
     "data": {
      "text/plain": [
       "array([[ 0.7290119 ,  0.31206317, -0.12619719],\n",
       "       [-0.1685682 ,  0.32342127,  0.13617037],\n",
       "       [ 1.74845079, -0.0530877 , -0.05532421],\n",
       "       [ 0.73954639, -0.030647  ,  0.12700972]])"
      ]
     },
     "execution_count": 96,
     "metadata": {},
     "output_type": "execute_result"
    }
   ],
   "source": [
    "# Factor loadings (p variables by m factors)\n",
    "L"
   ]
  },
  {
   "cell_type": "code",
   "execution_count": 97,
   "metadata": {
    "collapsed": false
   },
   "outputs": [
    {
     "data": {
      "text/plain": [
       "array([[ 0.03649593,  0.        ,  0.        ,  0.        ],\n",
       "       [ 0.        ,  0.03532662,  0.        ,  0.        ],\n",
       "       [ 0.        ,  0.        ,  0.02959403,  0.        ],\n",
       "       [ 0.        ,  0.        ,  0.        ,  0.01458716]])"
      ]
     },
     "execution_count": 97,
     "metadata": {},
     "output_type": "execute_result"
    }
   ],
   "source": [
    "# Specific variance (p variables by p variables)\n",
    "psi"
   ]
  },
  {
   "cell_type": "code",
   "execution_count": 98,
   "metadata": {
    "collapsed": false,
    "scrolled": true
   },
   "outputs": [
    {
     "data": {
      "text/plain": [
       "array([[ 0.68126343, -0.03914468,  1.26505648,  0.51354605],\n",
       "       [-0.03914468,  0.18688555, -0.31943642, -0.11728094],\n",
       "       [ 1.26505648, -0.31943642,  3.09255326,  1.28766073],\n",
       "       [ 0.51354605, -0.11728094,  1.28766073,  0.57858673]])"
      ]
     },
     "execution_count": 98,
     "metadata": {},
     "output_type": "execute_result"
    }
   ],
   "source": [
    "L @ L.T + psi"
   ]
  },
  {
   "cell_type": "code",
   "execution_count": 99,
   "metadata": {
    "collapsed": false,
    "scrolled": true
   },
   "outputs": [
    {
     "data": {
      "text/plain": [
       "array([[ 0.68569351, -0.03926846,  1.27368233,  0.5169038 ],\n",
       "       [-0.03926846,  0.18800403, -0.32171275, -0.11798121],\n",
       "       [ 1.27368233, -0.32171275,  3.11317942,  1.29638747],\n",
       "       [ 0.5169038 , -0.11798121,  1.29638747,  0.58241432]])"
      ]
     },
     "execution_count": 99,
     "metadata": {},
     "output_type": "execute_result"
    }
   ],
   "source": [
    "np.cov(X, rowvar = False) # Not exactly the same but very close"
   ]
  },
  {
   "cell_type": "markdown",
   "metadata": {},
   "source": [
    "### 2) Example with the stock data"
   ]
  },
  {
   "cell_type": "code",
   "execution_count": 112,
   "metadata": {
    "collapsed": false
   },
   "outputs": [
    {
     "data": {
      "text/html": [
       "<div>\n",
       "<table border=\"1\" class=\"dataframe\">\n",
       "  <thead>\n",
       "    <tr style=\"text-align: right;\">\n",
       "      <th></th>\n",
       "      <th>AAN</th>\n",
       "      <th>ABM</th>\n",
       "      <th>ABT</th>\n",
       "      <th>ABX</th>\n",
       "      <th>ADM</th>\n",
       "      <th>ADX</th>\n",
       "      <th>AEG</th>\n",
       "      <th>AEM</th>\n",
       "      <th>AEP</th>\n",
       "      <th>AET</th>\n",
       "      <th>...</th>\n",
       "      <th>WRB</th>\n",
       "      <th>WSM</th>\n",
       "      <th>WSO</th>\n",
       "      <th>WTR</th>\n",
       "      <th>WWW</th>\n",
       "      <th>WY</th>\n",
       "      <th>XEL</th>\n",
       "      <th>XOM</th>\n",
       "      <th>XRX</th>\n",
       "      <th>Y</th>\n",
       "    </tr>\n",
       "    <tr>\n",
       "      <th>Date</th>\n",
       "      <th></th>\n",
       "      <th></th>\n",
       "      <th></th>\n",
       "      <th></th>\n",
       "      <th></th>\n",
       "      <th></th>\n",
       "      <th></th>\n",
       "      <th></th>\n",
       "      <th></th>\n",
       "      <th></th>\n",
       "      <th></th>\n",
       "      <th></th>\n",
       "      <th></th>\n",
       "      <th></th>\n",
       "      <th></th>\n",
       "      <th></th>\n",
       "      <th></th>\n",
       "      <th></th>\n",
       "      <th></th>\n",
       "      <th></th>\n",
       "      <th></th>\n",
       "    </tr>\n",
       "  </thead>\n",
       "  <tbody>\n",
       "    <tr>\n",
       "      <th>1986-02-28</th>\n",
       "      <td>0.059698</td>\n",
       "      <td>-0.011299</td>\n",
       "      <td>0.027273</td>\n",
       "      <td>-0.086212</td>\n",
       "      <td>0.013575</td>\n",
       "      <td>0.042254</td>\n",
       "      <td>-0.032053</td>\n",
       "      <td>-0.081633</td>\n",
       "      <td>0.039216</td>\n",
       "      <td>0.100671</td>\n",
       "      <td>...</td>\n",
       "      <td>0.192309</td>\n",
       "      <td>0.289474</td>\n",
       "      <td>0.078435</td>\n",
       "      <td>0.035294</td>\n",
       "      <td>-0.100006</td>\n",
       "      <td>0.122606</td>\n",
       "      <td>0.097222</td>\n",
       "      <td>0.009662</td>\n",
       "      <td>0.099222</td>\n",
       "      <td>0.087267</td>\n",
       "    </tr>\n",
       "    <tr>\n",
       "      <th>1986-03-31</th>\n",
       "      <td>-0.014078</td>\n",
       "      <td>0.120000</td>\n",
       "      <td>0.221239</td>\n",
       "      <td>0.075472</td>\n",
       "      <td>0.062500</td>\n",
       "      <td>0.047298</td>\n",
       "      <td>0.013246</td>\n",
       "      <td>0.022222</td>\n",
       "      <td>0.047170</td>\n",
       "      <td>0.054878</td>\n",
       "      <td>...</td>\n",
       "      <td>0.168008</td>\n",
       "      <td>0.071429</td>\n",
       "      <td>-0.036365</td>\n",
       "      <td>-0.034091</td>\n",
       "      <td>0.099995</td>\n",
       "      <td>0.051195</td>\n",
       "      <td>0.021097</td>\n",
       "      <td>0.066986</td>\n",
       "      <td>-0.049557</td>\n",
       "      <td>0.053947</td>\n",
       "    </tr>\n",
       "    <tr>\n",
       "      <th>1986-04-30</th>\n",
       "      <td>0.071426</td>\n",
       "      <td>0.096939</td>\n",
       "      <td>0.000000</td>\n",
       "      <td>0.385978</td>\n",
       "      <td>-0.109244</td>\n",
       "      <td>0.012903</td>\n",
       "      <td>0.081699</td>\n",
       "      <td>-0.065217</td>\n",
       "      <td>-0.067568</td>\n",
       "      <td>-0.065511</td>\n",
       "      <td>...</td>\n",
       "      <td>-0.128883</td>\n",
       "      <td>-0.123810</td>\n",
       "      <td>0.320756</td>\n",
       "      <td>-0.035294</td>\n",
       "      <td>-0.060603</td>\n",
       "      <td>-0.045455</td>\n",
       "      <td>0.024793</td>\n",
       "      <td>0.015695</td>\n",
       "      <td>-0.106145</td>\n",
       "      <td>-0.039950</td>\n",
       "    </tr>\n",
       "    <tr>\n",
       "      <th>1986-05-30</th>\n",
       "      <td>-0.079999</td>\n",
       "      <td>-0.046512</td>\n",
       "      <td>0.072464</td>\n",
       "      <td>0.000000</td>\n",
       "      <td>0.070755</td>\n",
       "      <td>0.031847</td>\n",
       "      <td>0.018128</td>\n",
       "      <td>-0.085271</td>\n",
       "      <td>0.000000</td>\n",
       "      <td>0.049485</td>\n",
       "      <td>...</td>\n",
       "      <td>0.211362</td>\n",
       "      <td>0.043478</td>\n",
       "      <td>0.057141</td>\n",
       "      <td>0.018293</td>\n",
       "      <td>-0.021504</td>\n",
       "      <td>0.010204</td>\n",
       "      <td>0.020161</td>\n",
       "      <td>0.057395</td>\n",
       "      <td>0.020833</td>\n",
       "      <td>-0.009103</td>\n",
       "    </tr>\n",
       "    <tr>\n",
       "      <th>1986-06-30</th>\n",
       "      <td>0.072462</td>\n",
       "      <td>0.000000</td>\n",
       "      <td>-0.418919</td>\n",
       "      <td>0.037970</td>\n",
       "      <td>-0.356828</td>\n",
       "      <td>0.000000</td>\n",
       "      <td>0.005935</td>\n",
       "      <td>0.059322</td>\n",
       "      <td>0.028986</td>\n",
       "      <td>-0.047151</td>\n",
       "      <td>...</td>\n",
       "      <td>-0.302073</td>\n",
       "      <td>-0.260417</td>\n",
       "      <td>-0.081081</td>\n",
       "      <td>0.005988</td>\n",
       "      <td>-0.054942</td>\n",
       "      <td>-0.060606</td>\n",
       "      <td>-0.446640</td>\n",
       "      <td>0.016701</td>\n",
       "      <td>-0.083673</td>\n",
       "      <td>0.032808</td>\n",
       "    </tr>\n",
       "  </tbody>\n",
       "</table>\n",
       "<p>5 rows × 313 columns</p>\n",
       "</div>"
      ],
      "text/plain": [
       "                 AAN       ABM       ABT       ABX       ADM       ADX  \\\n",
       "Date                                                                     \n",
       "1986-02-28  0.059698 -0.011299  0.027273 -0.086212  0.013575  0.042254   \n",
       "1986-03-31 -0.014078  0.120000  0.221239  0.075472  0.062500  0.047298   \n",
       "1986-04-30  0.071426  0.096939  0.000000  0.385978 -0.109244  0.012903   \n",
       "1986-05-30 -0.079999 -0.046512  0.072464  0.000000  0.070755  0.031847   \n",
       "1986-06-30  0.072462  0.000000 -0.418919  0.037970 -0.356828  0.000000   \n",
       "\n",
       "                 AEG       AEM       AEP       AET    ...          WRB  \\\n",
       "Date                                                  ...                \n",
       "1986-02-28 -0.032053 -0.081633  0.039216  0.100671    ...     0.192309   \n",
       "1986-03-31  0.013246  0.022222  0.047170  0.054878    ...     0.168008   \n",
       "1986-04-30  0.081699 -0.065217 -0.067568 -0.065511    ...    -0.128883   \n",
       "1986-05-30  0.018128 -0.085271  0.000000  0.049485    ...     0.211362   \n",
       "1986-06-30  0.005935  0.059322  0.028986 -0.047151    ...    -0.302073   \n",
       "\n",
       "                 WSM       WSO       WTR       WWW        WY       XEL  \\\n",
       "Date                                                                     \n",
       "1986-02-28  0.289474  0.078435  0.035294 -0.100006  0.122606  0.097222   \n",
       "1986-03-31  0.071429 -0.036365 -0.034091  0.099995  0.051195  0.021097   \n",
       "1986-04-30 -0.123810  0.320756 -0.035294 -0.060603 -0.045455  0.024793   \n",
       "1986-05-30  0.043478  0.057141  0.018293 -0.021504  0.010204  0.020161   \n",
       "1986-06-30 -0.260417 -0.081081  0.005988 -0.054942 -0.060606 -0.446640   \n",
       "\n",
       "                 XOM       XRX         Y  \n",
       "Date                                      \n",
       "1986-02-28  0.009662  0.099222  0.087267  \n",
       "1986-03-31  0.066986 -0.049557  0.053947  \n",
       "1986-04-30  0.015695 -0.106145 -0.039950  \n",
       "1986-05-30  0.057395  0.020833 -0.009103  \n",
       "1986-06-30  0.016701 -0.083673  0.032808  \n",
       "\n",
       "[5 rows x 313 columns]"
      ]
     },
     "execution_count": 112,
     "metadata": {},
     "output_type": "execute_result"
    }
   ],
   "source": [
    "# Data from Yahoo! finance\n",
    "monthly = pd.read_csv('../../../data/monthly.csv', parse_dates = True, index_col = 0)\n",
    "monthly.head()"
   ]
  },
  {
   "cell_type": "code",
   "execution_count": 113,
   "metadata": {
    "collapsed": false
   },
   "outputs": [],
   "source": [
    "# Run the factor analysis with m = 10 factors\n",
    "model = FactorAnalysis(n_components=10, random_state=101).fit(monthly)\n",
    "psi = np.diag(model.noise_variance_)\n",
    "L = model.components_.T"
   ]
  },
  {
   "cell_type": "code",
   "execution_count": 114,
   "metadata": {
    "collapsed": false,
    "deletable": true,
    "editable": true
   },
   "outputs": [
    {
     "name": "stdout",
     "output_type": "stream",
     "text": [
      "(313, 10)\n"
     ]
    },
    {
     "data": {
      "text/plain": [
       "array([[-0.03354241,  0.01027346, -0.01223865, ..., -0.00844789,\n",
       "         0.00137836, -0.00456638],\n",
       "       [-0.03615607,  0.0054172 , -0.00892085, ..., -0.01207086,\n",
       "        -0.00336242, -0.00692151],\n",
       "       [-0.02423157, -0.01149042, -0.00140436, ...,  0.00111157,\n",
       "         0.01369112, -0.00063638],\n",
       "       ..., \n",
       "       [-0.02602295, -0.00726305,  0.02266885, ..., -0.00418812,\n",
       "        -0.00128919, -0.00667049],\n",
       "       [-0.06101191,  0.01631924, -0.01677813, ...,  0.0117468 ,\n",
       "         0.0009385 , -0.00959025],\n",
       "       [-0.02339781, -0.00208691, -0.00288141, ..., -0.00824166,\n",
       "         0.00407986,  0.00187918]])"
      ]
     },
     "execution_count": 114,
     "metadata": {},
     "output_type": "execute_result"
    }
   ],
   "source": [
    "# Factor loadings (p variables by m factors)\n",
    "print(L.shape)\n",
    "L"
   ]
  },
  {
   "cell_type": "code",
   "execution_count": 115,
   "metadata": {
    "collapsed": false,
    "deletable": true,
    "editable": true
   },
   "outputs": [
    {
     "name": "stdout",
     "output_type": "stream",
     "text": [
      "(313, 313)\n"
     ]
    },
    {
     "data": {
      "text/plain": [
       "array([[ 0.00971772,  0.        ,  0.        , ...,  0.        ,\n",
       "         0.        ,  0.        ],\n",
       "       [ 0.        ,  0.00636437,  0.        , ...,  0.        ,\n",
       "         0.        ,  0.        ],\n",
       "       [ 0.        ,  0.        ,  0.00496317, ...,  0.        ,\n",
       "         0.        ,  0.        ],\n",
       "       ..., \n",
       "       [ 0.        ,  0.        ,  0.        , ...,  0.00307304,\n",
       "         0.        ,  0.        ],\n",
       "       [ 0.        ,  0.        ,  0.        , ...,  0.        ,\n",
       "         0.00888547,  0.        ],\n",
       "       [ 0.        ,  0.        ,  0.        , ...,  0.        ,\n",
       "         0.        ,  0.00268977]])"
      ]
     },
     "execution_count": 115,
     "metadata": {},
     "output_type": "execute_result"
    }
   ],
   "source": [
    "# Specific variance (p variables by p variables diagonal)\n",
    "print(psi.shape)\n",
    "psi"
   ]
  },
  {
   "cell_type": "code",
   "execution_count": 116,
   "metadata": {
    "collapsed": false,
    "deletable": true,
    "editable": true,
    "scrolled": true
   },
   "outputs": [
    {
     "data": {
      "text/plain": [
       "array([[ 0.01130071,  0.00165033,  0.00057467, ...,  0.00054447,\n",
       "         0.00262934,  0.00085635],\n",
       "       [ 0.00165033,  0.00822287,  0.00047285, ...,  0.00074002,\n",
       "         0.00276773,  0.00094543],\n",
       "       [ 0.00057467,  0.00047285,  0.00651474, ...,  0.00073578,\n",
       "         0.00114211,  0.00072767],\n",
       "       ..., \n",
       "       [ 0.00054447,  0.00074002,  0.00073578, ...,  0.00442456,\n",
       "         0.0010497 ,  0.00058156],\n",
       "       [ 0.00262934,  0.00276773,  0.00114211, ...,  0.0010497 ,\n",
       "         0.01451769,  0.00150219],\n",
       "       [ 0.00085635,  0.00094543,  0.00072767, ...,  0.00058156,\n",
       "         0.00150219,  0.00342499]])"
      ]
     },
     "execution_count": 116,
     "metadata": {},
     "output_type": "execute_result"
    }
   ],
   "source": [
    "L @ L.T + psi"
   ]
  },
  {
   "cell_type": "code",
   "execution_count": 117,
   "metadata": {
    "collapsed": false,
    "deletable": true,
    "editable": true,
    "scrolled": true
   },
   "outputs": [
    {
     "data": {
      "text/plain": [
       "array([[ 0.01138694,  0.00120613,  0.00020764, ...,  0.00045391,\n",
       "         0.00301268,  0.00099745],\n",
       "       [ 0.00120613,  0.0081774 ,  0.00063494, ...,  0.00067727,\n",
       "         0.00215948,  0.00110317],\n",
       "       [ 0.00020764,  0.00063494,  0.00655432, ...,  0.00042434,\n",
       "         0.00117249,  0.00112455],\n",
       "       ..., \n",
       "       [ 0.00045391,  0.00067727,  0.00042434, ...,  0.0043913 ,\n",
       "         0.00141397,  0.00057171],\n",
       "       [ 0.00301268,  0.00215948,  0.00117249, ...,  0.00141397,\n",
       "         0.01452947,  0.00107497],\n",
       "       [ 0.00099745,  0.00110317,  0.00112455, ...,  0.00057171,\n",
       "         0.00107497,  0.00340748]])"
      ]
     },
     "execution_count": 117,
     "metadata": {},
     "output_type": "execute_result"
    }
   ],
   "source": [
    "np.cov(monthly, rowvar = False) # Not exactly the same as L @ L.T + psi but similar"
   ]
  },
  {
   "cell_type": "code",
   "execution_count": 118,
   "metadata": {
    "collapsed": false
   },
   "outputs": [
    {
     "data": {
      "text/plain": [
       "array([[-0.04440807],\n",
       "       [ 0.0005459 ],\n",
       "       [-0.00120203],\n",
       "       [ 0.00166326],\n",
       "       [-0.00043369],\n",
       "       [ 0.00028459],\n",
       "       [-0.00208653],\n",
       "       [-0.00044961],\n",
       "       [ 0.00066152],\n",
       "       [-0.00024888]])"
      ]
     },
     "execution_count": 118,
     "metadata": {},
     "output_type": "execute_result"
    }
   ],
   "source": [
    "# Portfolio factor exposures for equal weight portfolio (p factors by 1)\n",
    "def get_exposures(factor_loading_matrix):\n",
    "    n = factor_loading_matrix.shape[0]\n",
    "    w_equal = np.ones(shape = (n, 1))/ n\n",
    "    return(factor_loading_matrix.T @ w_equal)\n",
    "get_exposures(L)"
   ]
  }
 ],
 "metadata": {
  "kernelspec": {
   "display_name": "Python 3",
   "language": "python",
   "name": "python3"
  },
  "language_info": {
   "codemirror_mode": {
    "name": "ipython",
    "version": 3
   },
   "file_extension": ".py",
   "mimetype": "text/x-python",
   "name": "python",
   "nbconvert_exporter": "python",
   "pygments_lexer": "ipython3",
   "version": "3.5.2"
  }
 },
 "nbformat": 4,
 "nbformat_minor": 0
}
