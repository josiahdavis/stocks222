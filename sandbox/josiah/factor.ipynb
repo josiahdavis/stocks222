{
 "cells": [
  {
   "cell_type": "markdown",
   "metadata": {},
   "source": [
    "# Factor Covariance Modeling in Python"
   ]
  },
  {
   "cell_type": "markdown",
   "metadata": {
    "deletable": true,
    "editable": true
   },
   "source": [
    "$$\\Sigma = F \\tilde{\\Sigma} F^T + D$$\n",
    "\n",
    "* $\\Sigma = E(r-\\hat{r})(r-\\hat{r})^{T}$, as before\n",
    "\n",
    "* $F \\in R^{n x k}$ is the factor loading matrix with $n$ assets and $k$ factors (i.e. $F_{ij}$ is the loading of asset $i$ onto factor $j$.)\n",
    "\n",
    "* $\\tilde{\\Sigma} \\in R^{k x k}$ is the factor covariance matrix, where $\\tilde{\\Sigma} > 0$. **I'm having trouble with this term**\n",
    "\n",
    "* $D \\in R^{n x n}$ is a diagonal matrix containing the idiosyncratic risk (i.e., $D_{ii}$ is the variance in asset $i$ not captured by the factors)\n",
    "\n",
    "This notation is from Stephen Boyd's [short course](http://web.stanford.edu/~boyd/papers/cvx_short_course.html). Specifically slides 13-14 of [this presentation](http://web.stanford.edu/~boyd/papers/pdf/cvx_applications.pdf)."
   ]
  },
  {
   "cell_type": "code",
   "execution_count": 14,
   "metadata": {
    "collapsed": true
   },
   "outputs": [],
   "source": [
    "# This is the main method used\n",
    "from sklearn.decomposition import FactorAnalysis"
   ]
  },
  {
   "cell_type": "markdown",
   "metadata": {
    "deletable": true,
    "editable": true
   },
   "source": [
    "* [Documentation](http://scikit-learn.org/stable/modules/generated/sklearn.decomposition.FactorAnalysis.html)\n",
    "* [Tutorial](http://scikit-learn.org/stable/modules/decomposition.html#fa)"
   ]
  },
  {
   "cell_type": "code",
   "execution_count": 17,
   "metadata": {
    "collapsed": false
   },
   "outputs": [],
   "source": [
    "# Load other methods/packages\n",
    "from sklearn.datasets import load_iris\n",
    "from sklearn import preprocessing\n",
    "import numpy as np\n",
    "import pandas as pd"
   ]
  },
  {
   "cell_type": "code",
   "execution_count": 27,
   "metadata": {
    "collapsed": false
   },
   "outputs": [
    {
     "data": {
      "text/plain": [
       "array([[ 1.00671141, -0.11010327,  0.87760486,  0.82344326],\n",
       "       [-0.11010327,  1.00671141, -0.42333835, -0.358937  ],\n",
       "       [ 0.87760486, -0.42333835,  1.00671141,  0.96921855],\n",
       "       [ 0.82344326, -0.358937  ,  0.96921855,  1.00671141]])"
      ]
     },
     "execution_count": 27,
     "metadata": {},
     "output_type": "execute_result"
    }
   ],
   "source": [
    "iris = load_iris()\n",
    "\n",
    "# Covariance matrix (n x n)\n",
    "Sigma = np.cov(preprocessing.scale(iris.data), rowvar = False) # Normalization\n",
    "Sigma"
   ]
  },
  {
   "cell_type": "code",
   "execution_count": 31,
   "metadata": {
    "collapsed": false
   },
   "outputs": [
    {
     "data": {
      "text/plain": [
       "array([[-0.43161053,  0.10199265,  0.00558075],\n",
       "       [ 0.57286184,  0.06457749, -0.01589004],\n",
       "       [-0.59699114,  0.00681253,  0.00194196],\n",
       "       [-0.56285738, -0.0197104 , -0.02251163]])"
      ]
     },
     "execution_count": 31,
     "metadata": {},
     "output_type": "execute_result"
    }
   ],
   "source": [
    "factor = FactorAnalysis(n_components=3, random_state=101).fit(Sigma)\n",
    "\n",
    "# Factor loading matrix (n x k)\n",
    "F = factor.components_.T\n",
    "F"
   ]
  },
  {
   "cell_type": "code",
   "execution_count": 41,
   "metadata": {
    "collapsed": true
   },
   "outputs": [],
   "source": [
    "# Factor covariance matrix?"
   ]
  },
  {
   "cell_type": "code",
   "execution_count": 38,
   "metadata": {
    "collapsed": false
   },
   "outputs": [
    {
     "data": {
      "text/plain": [
       "array([[  1.00000000e-12,   0.00000000e+00,   0.00000000e+00,\n",
       "          0.00000000e+00],\n",
       "       [  0.00000000e+00,   1.00000000e-12,   0.00000000e+00,\n",
       "          0.00000000e+00],\n",
       "       [  0.00000000e+00,   0.00000000e+00,   1.00000000e-12,\n",
       "          0.00000000e+00],\n",
       "       [  0.00000000e+00,   0.00000000e+00,   0.00000000e+00,\n",
       "          1.00000000e-12]])"
      ]
     },
     "execution_count": 38,
     "metadata": {},
     "output_type": "execute_result"
    }
   ],
   "source": [
    "# Idiosyncratic risk (n_features by n_features)\n",
    "D = np.diag(factor.noise_variance_)\n",
    "D"
   ]
  },
  {
   "cell_type": "code",
   "execution_count": 42,
   "metadata": {
    "collapsed": false
   },
   "outputs": [
    {
     "data": {
      "text/plain": [
       "array([[ 0.19672129, -0.24075545,  0.25837333,  0.24079922],\n",
       "       [-0.24075545,  0.33259343, -0.34158436, -0.32335465],\n",
       "       [ 0.25837333, -0.34158436,  0.3564486 ,  0.33584287],\n",
       "       [ 0.24079922, -0.32335465,  0.33584287,  0.3177037 ]])"
      ]
     },
     "execution_count": 42,
     "metadata": {},
     "output_type": "execute_result"
    }
   ],
   "source": [
    "# Factor covariance matrix (k x k)\n",
    "factor.get_covariance()"
   ]
  },
  {
   "cell_type": "code",
   "execution_count": 43,
   "metadata": {
    "collapsed": false
   },
   "outputs": [
    {
     "data": {
      "text/plain": [
       "array([[ 0.19672129, -0.24075545,  0.25837333,  0.24079922],\n",
       "       [-0.24075545,  0.33259343, -0.34158436, -0.32335465],\n",
       "       [ 0.25837333, -0.34158436,  0.3564486 ,  0.33584287],\n",
       "       [ 0.24079922, -0.32335465,  0.33584287,  0.3177037 ]])"
      ]
     },
     "execution_count": 43,
     "metadata": {},
     "output_type": "execute_result"
    }
   ],
   "source": [
    "# Alternatively\n",
    "np.matmul(factor.components_.T, factor.components_) + D"
   ]
  }
 ],
 "metadata": {
  "kernelspec": {
   "display_name": "Python 3",
   "language": "python",
   "name": "python3"
  },
  "language_info": {
   "codemirror_mode": {
    "name": "ipython",
    "version": 3
   },
   "file_extension": ".py",
   "mimetype": "text/x-python",
   "name": "python",
   "nbconvert_exporter": "python",
   "pygments_lexer": "ipython3",
   "version": "3.5.2"
  }
 },
 "nbformat": 4,
 "nbformat_minor": 0
}
