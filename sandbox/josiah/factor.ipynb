{
 "cells": [
  {
   "cell_type": "markdown",
   "metadata": {
    "deletable": true,
    "editable": true
   },
   "source": [
    "# Factor Covariance Modeling"
   ]
  },
  {
   "cell_type": "markdown",
   "metadata": {
    "deletable": true,
    "editable": true
   },
   "source": [
    "$$\\Sigma = F \\tilde{\\Sigma} F^T + D$$\n",
    "\n",
    "1. $\\Sigma = E(r-\\hat{r})(r-\\hat{r})^{T}$, as before\n",
    "\n",
    "2. $F \\in R^{n x k}$ is the factor loading matrix with $n$ assets and $k$ factors (i.e. $F_{ij}$ is the loading of asset $i$ onto factor $j$.)\n",
    "\n",
    "3. $\\tilde{\\Sigma} \\in R^{k x k}$ is the factor covariance matrix, where $\\tilde{\\Sigma} > 0$. **I'm having trouble with this term**\n",
    "\n",
    "4. $D \\in R^{n x n}$ is a diagonal matrix containing the idiosyncratic risk (i.e., $D_{ii}$ is the variance in asset $i$ not captured by the factors)\n",
    "\n",
    "This notation is from Stephen Boyd's [short course](http://web.stanford.edu/~boyd/papers/cvx_short_course.html). Specifically slides 13-14 of [this presentation](http://web.stanford.edu/~boyd/papers/pdf/cvx_applications.pdf)."
   ]
  },
  {
   "cell_type": "code",
   "execution_count": 16,
   "metadata": {
    "collapsed": true,
    "deletable": true,
    "editable": true
   },
   "outputs": [],
   "source": [
    "# This is the main method used\n",
    "from sklearn.decomposition import FactorAnalysis\n",
    "from sklearn import preprocessing"
   ]
  },
  {
   "cell_type": "code",
   "execution_count": 2,
   "metadata": {
    "collapsed": false,
    "deletable": true,
    "editable": true
   },
   "outputs": [],
   "source": [
    "# Load other methods/packages\n",
    "import numpy as np\n",
    "import pandas as pd"
   ]
  },
  {
   "cell_type": "code",
   "execution_count": 8,
   "metadata": {
    "collapsed": true
   },
   "outputs": [],
   "source": [
    "# Read data already got from Yahoo! finance\n",
    "monthly = pd.read_csv('../../../data/monthly.csv', parse_dates = True, index_col = 0)"
   ]
  },
  {
   "cell_type": "code",
   "execution_count": 35,
   "metadata": {
    "collapsed": false,
    "deletable": true,
    "editable": true
   },
   "outputs": [],
   "source": [
    "# Run the factor analysis with k = 10\n",
    "factor = FactorAnalysis(n_components=50, random_state=101).fit(monthly)"
   ]
  },
  {
   "cell_type": "markdown",
   "metadata": {
    "deletable": true,
    "editable": true
   },
   "source": [
    "## 1. Covariance Matrix $\\Sigma \\in R^{n x n}$"
   ]
  },
  {
   "cell_type": "markdown",
   "metadata": {
    "deletable": true,
    "editable": true
   },
   "source": [
    "In this example $n = 4$ and $k = 3$"
   ]
  },
  {
   "cell_type": "code",
   "execution_count": 37,
   "metadata": {
    "collapsed": false,
    "deletable": true,
    "editable": true,
    "scrolled": true
   },
   "outputs": [
    {
     "data": {
      "text/plain": [
       "array([[ 1.0027027 ,  0.12533049,  0.02409955, ...,  0.0643638 ,\n",
       "         0.23485312,  0.16056183],\n",
       "       [ 0.12533049,  1.0027027 ,  0.08696309, ...,  0.11332675,\n",
       "         0.19865058,  0.20955198],\n",
       "       [ 0.02409955,  0.08696309,  1.0027027 , ...,  0.07930873,\n",
       "         0.12047362,  0.23860105],\n",
       "       ..., \n",
       "       [ 0.0643638 ,  0.11332675,  0.07930873, ...,  1.0027027 ,\n",
       "         0.17749676,  0.14819546],\n",
       "       [ 0.23485312,  0.19865058,  0.12047362, ...,  0.17749676,\n",
       "         1.0027027 ,  0.15318908],\n",
       "       [ 0.16056183,  0.20955198,  0.23860105, ...,  0.14819546,\n",
       "         0.15318908,  1.0027027 ]])"
      ]
     },
     "execution_count": 37,
     "metadata": {},
     "output_type": "execute_result"
    }
   ],
   "source": [
    "Sigma = np.cov(preprocessing.scale(monthly), rowvar = False)\n",
    "Sigma"
   ]
  },
  {
   "cell_type": "markdown",
   "metadata": {
    "deletable": true,
    "editable": true
   },
   "source": [
    "## 2.  Factor Loading Matrix $F \\in R^{n x k}$"
   ]
  },
  {
   "cell_type": "code",
   "execution_count": 38,
   "metadata": {
    "collapsed": false,
    "deletable": true,
    "editable": true
   },
   "outputs": [
    {
     "data": {
      "text/plain": [
       "array([[ -3.34676272e-02,   1.20728668e-02,  -1.01821718e-02, ...,\n",
       "         -4.41165807e-03,  -9.43168318e-05,   1.03611546e-02],\n",
       "       [ -3.60073111e-02,   7.08390572e-03,  -7.18678507e-03, ...,\n",
       "         -4.35747408e-03,  -6.67790867e-03,  -6.33976162e-03],\n",
       "       [ -2.46583940e-02,  -1.23974639e-02,  -3.15536530e-03, ...,\n",
       "         -1.10349981e-03,   7.51859529e-03,  -7.46581505e-03],\n",
       "       ..., \n",
       "       [ -2.57965153e-02,  -1.00942849e-02,   2.23374913e-02, ...,\n",
       "         -3.46692016e-04,  -5.32318149e-03,   9.84826321e-04],\n",
       "       [ -6.16632509e-02,   2.01050300e-02,  -1.41952880e-02, ...,\n",
       "          2.74976925e-03,  -2.14485276e-03,  -5.04773336e-03],\n",
       "       [ -2.35071254e-02,  -1.74024452e-03,  -2.68517693e-03, ...,\n",
       "         -3.63271117e-03,   3.18578185e-03,   2.42946098e-03]])"
      ]
     },
     "execution_count": 38,
     "metadata": {},
     "output_type": "execute_result"
    }
   ],
   "source": [
    "# Factor loading matrix (n x k)\n",
    "F = factor.components_.T\n",
    "F"
   ]
  },
  {
   "cell_type": "markdown",
   "metadata": {
    "deletable": true,
    "editable": true
   },
   "source": [
    "## 3. Factor covariance matrix $\\tilde{\\Sigma} \\in R^{k x k}$?"
   ]
  },
  {
   "cell_type": "code",
   "execution_count": 39,
   "metadata": {
    "collapsed": false,
    "deletable": true,
    "editable": true
   },
   "outputs": [
    {
     "data": {
      "text/plain": [
       "array([[ 0.00322369,  0.00164638,  0.00060594, ...,  0.0004041 ,\n",
       "         0.00280991,  0.00086043],\n",
       "       [ 0.00164638,  0.0029481 ,  0.00055473, ...,  0.00078077,\n",
       "         0.0024094 ,  0.00084773],\n",
       "       [ 0.00060594,  0.00055473,  0.00360714, ...,  0.00054037,\n",
       "         0.00108989,  0.00102816],\n",
       "       ..., \n",
       "       [ 0.0004041 ,  0.00078077,  0.00054037, ...,  0.00253885,\n",
       "         0.00131676,  0.00072794],\n",
       "       [ 0.00280991,  0.0024094 ,  0.00108989, ...,  0.00131676,\n",
       "         0.01051016,  0.00130359],\n",
       "       [ 0.00086043,  0.00084773,  0.00102816, ...,  0.00072794,\n",
       "         0.00130359,  0.00161767]])"
      ]
     },
     "execution_count": 39,
     "metadata": {},
     "output_type": "execute_result"
    }
   ],
   "source": [
    "F @ F.T"
   ]
  },
  {
   "cell_type": "markdown",
   "metadata": {
    "deletable": true,
    "editable": true
   },
   "source": [
    "## 4. Idiosyncratic Risk  $D \\in R^{n x n}$"
   ]
  },
  {
   "cell_type": "code",
   "execution_count": 40,
   "metadata": {
    "collapsed": false,
    "deletable": true,
    "editable": true
   },
   "outputs": [
    {
     "data": {
      "text/plain": [
       "array([[ 0.00820352,  0.        ,  0.        , ...,  0.        ,\n",
       "         0.        ,  0.        ],\n",
       "       [ 0.        ,  0.00508516,  0.        , ...,  0.        ,\n",
       "         0.        ,  0.        ],\n",
       "       [ 0.        ,  0.        ,  0.00300454, ...,  0.        ,\n",
       "         0.        ,  0.        ],\n",
       "       ..., \n",
       "       [ 0.        ,  0.        ,  0.        , ...,  0.00183183,\n",
       "         0.        ,  0.        ],\n",
       "       [ 0.        ,  0.        ,  0.        , ...,  0.        ,\n",
       "         0.00390915,  0.        ],\n",
       "       [ 0.        ,  0.        ,  0.        , ...,  0.        ,\n",
       "         0.        ,  0.00172432]])"
      ]
     },
     "execution_count": 40,
     "metadata": {},
     "output_type": "execute_result"
    }
   ],
   "source": [
    "D = np.diag(factor.noise_variance_)\n",
    "D"
   ]
  },
  {
   "cell_type": "markdown",
   "metadata": {
    "deletable": true,
    "editable": true
   },
   "source": [
    "## Does it check out?"
   ]
  },
  {
   "cell_type": "code",
   "execution_count": 41,
   "metadata": {
    "collapsed": false,
    "deletable": true,
    "editable": true
   },
   "outputs": [
    {
     "data": {
      "text/plain": [
       "array([[ 0.01142721,  0.00164638,  0.00060594, ...,  0.0004041 ,\n",
       "         0.00280991,  0.00086043],\n",
       "       [ 0.00164638,  0.00803326,  0.00055473, ...,  0.00078077,\n",
       "         0.0024094 ,  0.00084773],\n",
       "       [ 0.00060594,  0.00055473,  0.00661168, ...,  0.00054037,\n",
       "         0.00108989,  0.00102816],\n",
       "       ..., \n",
       "       [ 0.0004041 ,  0.00078077,  0.00054037, ...,  0.00437068,\n",
       "         0.00131676,  0.00072794],\n",
       "       [ 0.00280991,  0.0024094 ,  0.00108989, ...,  0.00131676,\n",
       "         0.01441931,  0.00130359],\n",
       "       [ 0.00086043,  0.00084773,  0.00102816, ...,  0.00072794,\n",
       "         0.00130359,  0.00334198]])"
      ]
     },
     "execution_count": 41,
     "metadata": {},
     "output_type": "execute_result"
    }
   ],
   "source": [
    "F @ F.T + D"
   ]
  },
  {
   "cell_type": "code",
   "execution_count": 42,
   "metadata": {
    "collapsed": false,
    "deletable": true,
    "editable": true
   },
   "outputs": [
    {
     "data": {
      "text/plain": [
       "array([[ 0.01142721,  0.00164638,  0.00060594, ...,  0.0004041 ,\n",
       "         0.00280991,  0.00086043],\n",
       "       [ 0.00164638,  0.00803326,  0.00055473, ...,  0.00078077,\n",
       "         0.0024094 ,  0.00084773],\n",
       "       [ 0.00060594,  0.00055473,  0.00661168, ...,  0.00054037,\n",
       "         0.00108989,  0.00102816],\n",
       "       ..., \n",
       "       [ 0.0004041 ,  0.00078077,  0.00054037, ...,  0.00437068,\n",
       "         0.00131676,  0.00072794],\n",
       "       [ 0.00280991,  0.0024094 ,  0.00108989, ...,  0.00131676,\n",
       "         0.01441931,  0.00130359],\n",
       "       [ 0.00086043,  0.00084773,  0.00102816, ...,  0.00072794,\n",
       "         0.00130359,  0.00334198]])"
      ]
     },
     "execution_count": 42,
     "metadata": {},
     "output_type": "execute_result"
    }
   ],
   "source": [
    "factor.get_covariance()"
   ]
  },
  {
   "cell_type": "code",
   "execution_count": 43,
   "metadata": {
    "collapsed": false,
    "deletable": true,
    "editable": true
   },
   "outputs": [
    {
     "data": {
      "text/plain": [
       "array([[ 1.0027027 ,  0.12533049,  0.02409955, ...,  0.0643638 ,\n",
       "         0.23485312,  0.16056183],\n",
       "       [ 0.12533049,  1.0027027 ,  0.08696309, ...,  0.11332675,\n",
       "         0.19865058,  0.20955198],\n",
       "       [ 0.02409955,  0.08696309,  1.0027027 , ...,  0.07930873,\n",
       "         0.12047362,  0.23860105],\n",
       "       ..., \n",
       "       [ 0.0643638 ,  0.11332675,  0.07930873, ...,  1.0027027 ,\n",
       "         0.17749676,  0.14819546],\n",
       "       [ 0.23485312,  0.19865058,  0.12047362, ...,  0.17749676,\n",
       "         1.0027027 ,  0.15318908],\n",
       "       [ 0.16056183,  0.20955198,  0.23860105, ...,  0.14819546,\n",
       "         0.15318908,  1.0027027 ]])"
      ]
     },
     "execution_count": 43,
     "metadata": {},
     "output_type": "execute_result"
    }
   ],
   "source": [
    "Sigma"
   ]
  },
  {
   "cell_type": "code",
   "execution_count": null,
   "metadata": {
    "collapsed": true
   },
   "outputs": [],
   "source": []
  }
 ],
 "metadata": {
  "kernelspec": {
   "display_name": "Python 3",
   "language": "python",
   "name": "python3"
  },
  "language_info": {
   "codemirror_mode": {
    "name": "ipython",
    "version": 3
   },
   "file_extension": ".py",
   "mimetype": "text/x-python",
   "name": "python",
   "nbconvert_exporter": "python",
   "pygments_lexer": "ipython3",
   "version": "3.5.2"
  }
 },
 "nbformat": 4,
 "nbformat_minor": 0
}
