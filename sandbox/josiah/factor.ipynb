{
 "cells": [
  {
   "cell_type": "markdown",
   "metadata": {
    "deletable": true,
    "editable": true
   },
   "source": [
    "# Factor Covariance Modeling in Python"
   ]
  },
  {
   "cell_type": "markdown",
   "metadata": {
    "deletable": true,
    "editable": true
   },
   "source": [
    "$$\\Sigma = F \\tilde{\\Sigma} F^T + D$$\n",
    "\n",
    "1. $\\Sigma = E(r-\\hat{r})(r-\\hat{r})^{T}$, as before\n",
    "\n",
    "2. $F \\in R^{n x k}$ is the factor loading matrix with $n$ assets and $k$ factors (i.e. $F_{ij}$ is the loading of asset $i$ onto factor $j$.)\n",
    "\n",
    "3. $\\tilde{\\Sigma} \\in R^{k x k}$ is the factor covariance matrix, where $\\tilde{\\Sigma} > 0$. **I'm having trouble with this term**\n",
    "\n",
    "4. $D \\in R^{n x n}$ is a diagonal matrix containing the idiosyncratic risk (i.e., $D_{ii}$ is the variance in asset $i$ not captured by the factors)\n",
    "\n",
    "This notation is from Stephen Boyd's [short course](http://web.stanford.edu/~boyd/papers/cvx_short_course.html). Specifically slides 13-14 of [this presentation](http://web.stanford.edu/~boyd/papers/pdf/cvx_applications.pdf)."
   ]
  },
  {
   "cell_type": "code",
   "execution_count": 46,
   "metadata": {
    "collapsed": true,
    "deletable": true,
    "editable": true
   },
   "outputs": [],
   "source": [
    "# This is the main method used\n",
    "from sklearn.decomposition import FactorAnalysis"
   ]
  },
  {
   "cell_type": "markdown",
   "metadata": {
    "deletable": true,
    "editable": true
   },
   "source": [
    "* [Documentation](http://scikit-learn.org/stable/modules/generated/sklearn.decomposition.FactorAnalysis.html)\n",
    "* [Tutorial](http://scikit-learn.org/stable/modules/decomposition.html#fa)"
   ]
  },
  {
   "cell_type": "code",
   "execution_count": 47,
   "metadata": {
    "collapsed": false,
    "deletable": true,
    "editable": true
   },
   "outputs": [],
   "source": [
    "# Load other methods/packages\n",
    "from sklearn.datasets import load_iris\n",
    "from sklearn import preprocessing\n",
    "import numpy as np\n",
    "import pandas as pd\n",
    "iris = load_iris()"
   ]
  },
  {
   "cell_type": "markdown",
   "metadata": {},
   "source": [
    "## 1. Covariance Matrix $\\Sigma \\in R^{n x n}$"
   ]
  },
  {
   "cell_type": "markdown",
   "metadata": {
    "deletable": true,
    "editable": true
   },
   "source": [
    "In this example $n = 4$ and $k = 3$"
   ]
  },
  {
   "cell_type": "code",
   "execution_count": 48,
   "metadata": {
    "collapsed": false,
    "deletable": true,
    "editable": true
   },
   "outputs": [
    {
     "data": {
      "text/plain": [
       "array([[ 1.00671141, -0.11010327,  0.87760486,  0.82344326],\n",
       "       [-0.11010327,  1.00671141, -0.42333835, -0.358937  ],\n",
       "       [ 0.87760486, -0.42333835,  1.00671141,  0.96921855],\n",
       "       [ 0.82344326, -0.358937  ,  0.96921855,  1.00671141]])"
      ]
     },
     "execution_count": 48,
     "metadata": {},
     "output_type": "execute_result"
    }
   ],
   "source": [
    "Sigma = np.cov(preprocessing.scale(iris.data), rowvar = False) # Normalization\n",
    "Sigma"
   ]
  },
  {
   "cell_type": "code",
   "execution_count": 49,
   "metadata": {
    "collapsed": false,
    "deletable": true,
    "editable": true
   },
   "outputs": [],
   "source": [
    "# Run the factor analysis with k = 3\n",
    "factor = FactorAnalysis(n_components=3, random_state=101).fit(Sigma)"
   ]
  },
  {
   "cell_type": "markdown",
   "metadata": {},
   "source": [
    "## 2.  Factor Loading Matrix $F \\in R^{n x k}$"
   ]
  },
  {
   "cell_type": "code",
   "execution_count": 50,
   "metadata": {
    "collapsed": false
   },
   "outputs": [
    {
     "data": {
      "text/plain": [
       "matrix([[-0.43161053,  0.10199265,  0.00558075],\n",
       "        [ 0.57286184,  0.06457749, -0.01589004],\n",
       "        [-0.59699114,  0.00681253,  0.00194196],\n",
       "        [-0.56285738, -0.0197104 , -0.02251163]])"
      ]
     },
     "execution_count": 50,
     "metadata": {},
     "output_type": "execute_result"
    }
   ],
   "source": [
    "# Factor loading matrix (n x k)\n",
    "F = np.asmatrix(factor.components_.T)\n",
    "F"
   ]
  },
  {
   "cell_type": "markdown",
   "metadata": {},
   "source": [
    "## 3. Factor covariance matrix $\\tilde{\\Sigma} \\in R^{k x k}$?"
   ]
  },
  {
   "cell_type": "code",
   "execution_count": 51,
   "metadata": {
    "collapsed": false
   },
   "outputs": [],
   "source": [
    "# How to get the factor covariance matrix?\n",
    "# Sigma_tilde = ?"
   ]
  },
  {
   "cell_type": "markdown",
   "metadata": {
    "deletable": true,
    "editable": true
   },
   "source": [
    "## 4. Idiosyncratic Risk  $D \\in R^{n x n}$"
   ]
  },
  {
   "cell_type": "code",
   "execution_count": 52,
   "metadata": {
    "collapsed": false,
    "deletable": true,
    "editable": true
   },
   "outputs": [
    {
     "data": {
      "text/plain": [
       "matrix([[  1.00000000e-12,   0.00000000e+00,   0.00000000e+00,\n",
       "           0.00000000e+00],\n",
       "        [  0.00000000e+00,   1.00000000e-12,   0.00000000e+00,\n",
       "           0.00000000e+00],\n",
       "        [  0.00000000e+00,   0.00000000e+00,   1.00000000e-12,\n",
       "           0.00000000e+00],\n",
       "        [  0.00000000e+00,   0.00000000e+00,   0.00000000e+00,\n",
       "           1.00000000e-12]])"
      ]
     },
     "execution_count": 52,
     "metadata": {},
     "output_type": "execute_result"
    }
   ],
   "source": [
    "D = np.asmatrix(np.diag(factor.noise_variance_))\n",
    "D"
   ]
  }
 ],
 "metadata": {
  "kernelspec": {
   "display_name": "Python 3",
   "language": "python",
   "name": "python3"
  },
  "language_info": {
   "codemirror_mode": {
    "name": "ipython",
    "version": 3
   },
   "file_extension": ".py",
   "mimetype": "text/x-python",
   "name": "python",
   "nbconvert_exporter": "python",
   "pygments_lexer": "ipython3",
   "version": "3.5.2"
  }
 },
 "nbformat": 4,
 "nbformat_minor": 0
}
