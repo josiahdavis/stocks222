{
 "cells": [
  {
   "cell_type": "code",
   "execution_count": null,
   "metadata": {
    "collapsed": true
   },
   "outputs": [],
   "source": [
    "import pandas_datareader as pdr\n",
    "import datetime\n",
    "start = datetime.datetime(2015, 1, 1)\n",
    "end = datetime.datetime(2015, 12, 31)\n",
    "stocks = pdr.get_data_yahoo(['GOOG', 'AAPL', 'AMZN', 'WMT'], start, end)\n",
    "stocks.Open"
   ]
  }
 ],
 "metadata": {
  "kernelspec": {
   "display_name": "Python 3",
   "language": "python",
   "name": "python3"
  },
  "language_info": {
   "codemirror_mode": {
    "name": "ipython",
    "version": 3
   },
   "file_extension": ".py",
   "mimetype": "text/x-python",
   "name": "python",
   "nbconvert_exporter": "python",
   "pygments_lexer": "ipython3",
   "version": "3.5.2"
  }
 },
 "nbformat": 4,
 "nbformat_minor": 0
}
