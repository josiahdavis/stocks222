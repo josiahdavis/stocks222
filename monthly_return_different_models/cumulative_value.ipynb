{
 "cells": [
  {
   "cell_type": "code",
   "execution_count": 100,
   "metadata": {
    "collapsed": true
   },
   "outputs": [],
   "source": [
    "import csv\n",
    "import numpy as np\n",
    "import matplotlib.pyplot as plt\n",
    "import math"
   ]
  },
  {
   "cell_type": "code",
   "execution_count": 101,
   "metadata": {
    "collapsed": true
   },
   "outputs": [],
   "source": [
    "#return_equal_yearly = np.genfromtxt ('return_equal_yearly.csv', delimiter=\",\")\n",
    "return_3factor_yearly = np.genfromtxt('return_optimal_3factor_yearly.csv', delimiter = \",\")\n",
    "#return_equal_value_yearly = np.genfromtxt('return_equal_value_yearly.csv', delimiter = \",\")\n",
    "josiah_Five_Factor = np.genfromtxt('josiah_Five_Factor.csv', delimiter = \",\")\n",
    "josiah_Three_Factor = np.genfromtxt('josiah_Three_Factor.csv', delimiter = \",\")\n",
    "josiah_Mean_variance = np.genfromtxt('josiah_Mean_variance.csv', delimiter = \",\")\n",
    "value_bond = np.genfromtxt('Bond_ret_25y.csv', delimiter = \",\")"
   ]
  },
  {
   "cell_type": "code",
   "execution_count": 102,
   "metadata": {
    "collapsed": true
   },
   "outputs": [],
   "source": [
    "m_equal_25 = return_equal_yearly.mean()\n",
    "m_equal_5 = [return_equal_yearly[:,i*5:(i+1)*5].mean() for i in range(5)]\n",
    "sigma_equal_25 = return_equal_yearly.std()\n",
    "sigma_equal_5 = [return_equal_yearly[:,i*5:(i+1)*5].std() for i in range(5)]\n",
    "s_equal_25 = m_equal_25/sigma_equal_25\n",
    "s_equal_5 = [m_equal_5[i]/sigma_equal_5[i] for i in range(5)]"
   ]
  },
  {
   "cell_type": "code",
   "execution_count": 103,
   "metadata": {
    "collapsed": false
   },
   "outputs": [
    {
     "name": "stdout",
     "output_type": "stream",
     "text": [
      "0.01392133\n",
      "0.0429049443196\n",
      "0.324469131024\n",
      "[0.019632450000000003, 0.015115450000000001, 0.015022983333333332, 0.010116433333333332, 0.009719333333333335]\n",
      "[0.02757863227477933, 0.038996474195079484, 0.040995205953660678, 0.061207800248107451, 0.037795146331536043]\n",
      "[0.71187177828082093, 0.3876106830680412, 0.36645707672050004, 0.16528013247210485, 0.25715824058666448]\n"
     ]
    }
   ],
   "source": [
    "print(m_equal_25)\n",
    "print(sigma_equal_25)\n",
    "print(s_equal_25)\n",
    "print(m_equal_5)\n",
    "print(sigma_equal_5)\n",
    "print(s_equal_5)"
   ]
  },
  {
   "cell_type": "code",
   "execution_count": 104,
   "metadata": {
    "collapsed": false
   },
   "outputs": [],
   "source": [
    "m_3factor_25 = return_3factor_yearly.mean()\n",
    "m_3factor_5 = [return_3factor_yearly[:,i*5:(i+1)*5].mean() for i in range(5)]\n",
    "sigma_3factor_25 = return_3factor_yearly.std()\n",
    "sigma_3factor_5 = [return_3factor_yearly[:,i*5:(i+1)*5].std() for i in range(5)]\n",
    "s_3factor_25 = m_3factor_25/sigma_3factor_25\n",
    "s_3factor_5 = [m_3factor_5[i]/sigma_3factor_5[i] for i in range(5)]"
   ]
  },
  {
   "cell_type": "code",
   "execution_count": 105,
   "metadata": {
    "collapsed": false
   },
   "outputs": [
    {
     "name": "stdout",
     "output_type": "stream",
     "text": [
      "0.01727838\n",
      "0.0468026318853\n",
      "0.369175392579\n",
      "[0.028860683333333335, 0.01688478333333333, 0.018945333333333331, 0.011701733333333334, 0.0099993666666666672]\n",
      "[0.040033419899916815, 0.045394665743194854, 0.045329783677205235, 0.060747765008233479, 0.036370794643489565]\n",
      "[0.72091476085442563, 0.37195522991298907, 0.41794449027693636, 0.19262821161811194, 0.27492846292420975]\n"
     ]
    }
   ],
   "source": [
    "print(m_3factor_25)\n",
    "print(sigma_3factor_25)\n",
    "print(s_3factor_25)\n",
    "print(m_3factor_5)\n",
    "print(sigma_3factor_5)\n",
    "print(s_3factor_5)"
   ]
  },
  {
   "cell_type": "code",
   "execution_count": 111,
   "metadata": {
    "collapsed": false
   },
   "outputs": [],
   "source": [
    "# cumulative valur plot\n",
    "value_equal = np.append([1], np.cumprod([np.product(return_equal_yearly[:,i] + 1) for i in range(25)]))\n",
    "value_3factor = np.append([1], np.cumprod([np.product(return_3factor_yearly[:,i] + 1)-0.01 for i in range(25)]))\n",
    "value_josiah_Mean_variance = np.append([1], np.cumprod([np.product(josiah_Mean_variance[:,i] + 1) for i in range(25)]))\n",
    "value_josiah_Three_Factor = np.append([1], np.cumprod([np.product(josiah_Three_Factor[:,i] + 1) for i in range(25)]))\n",
    "value_josiah_Five_Factor = np.append([1], np.cumprod([np.product(josiah_Five_Factor[:,i] + 1) for i in range(25)]))\n",
    "value_bond = np.append([1], value_bond)"
   ]
  },
  {
   "cell_type": "code",
   "execution_count": 112,
   "metadata": {
    "collapsed": false,
    "scrolled": true
   },
   "outputs": [
    {
     "name": "stdout",
     "output_type": "stream",
     "text": [
      "[  1.           1.45340551   1.8357727    2.3025065    2.34968305\n",
      "   3.14124211   3.94617457   5.32639921   5.57186485   6.05769723\n",
      "   7.38502226   8.67308531   8.47542764  12.36350493  15.36084318\n",
      "  17.18885094  20.7885842   21.94188821  14.86684916  21.94025906\n",
      "  28.07614451  28.50581651  33.99420538  46.11222163  50.40723929\n",
      "  48.09606539]\n",
      "[  1.           1.21376672   1.3100973    1.53494609   1.4727       1.8809016\n",
      "   2.14981746   2.93337974   3.47886895   3.4914813    4.06576108\n",
      "   4.55678542   4.53172687   6.38601378   8.68902403   9.07888107\n",
      "  10.57636209  11.47809491   8.8897073    9.42400763  11.05825397\n",
      "  12.49683504  14.75697759  18.65611667  20.57157649  23.02813338]\n",
      "[   1.            1.64516653    2.26764256    3.57929762    3.81809586\n",
      "    5.08189266    6.39089516    8.93742461    9.37512024   10.05185108\n",
      "   12.51978887   15.13474566   14.37793728   24.11342837   31.86647605\n",
      "   34.87125113   43.02826599   46.68499792   29.85982691   45.47798982\n",
      "   59.837455     62.43995494   70.11354792   96.61502688  103.13510897\n",
      "   99.93195597]\n",
      "[  1.           1.21213252   1.33950949   1.66381865   1.62336449\n",
      "   1.99393616   2.36086128   3.37450317   3.99289646   3.92466616\n",
      "   4.80985159   5.68797178   5.92804601   8.76122918  11.95098473\n",
      "  12.35505433  15.08622167  16.45043572  12.75285175  13.91043482\n",
      "  16.42844316  18.49275664  22.09724611  28.23863948  31.11195286\n",
      "  35.24204427]\n",
      "[  1.           1.38719804   1.63110494   1.8774721    1.85040974\n",
      "   2.44172093   2.98680347   4.08756257   4.4568628    4.46056521\n",
      "   5.5062807    6.12284626   5.99894512   8.13220482   9.95584379\n",
      "  11.03387223  13.26479043  13.90038669   9.95529008  13.18593468\n",
      "  16.12996321  17.08293656  19.58089635  25.79308772  28.81374807\n",
      "  28.59545906]\n",
      "[  1.           1.38144544   1.62373142   1.86971715   1.84266851\n",
      "   2.43190436   2.97489785   4.07246339   4.44336763   4.44415507\n",
      "   5.48452366   6.09080298   5.97194576   8.09315738   9.90830057\n",
      "  10.97814574  13.18155228  13.82957095   9.89532464  13.11413346\n",
      "  16.0464189   16.99281721  19.47888762  25.63460642  28.69493189\n",
      "  28.52402604]\n"
     ]
    }
   ],
   "source": [
    "print(value_equal)\n",
    "print(value_bond)\n",
    "print(value_3factor)\n",
    "print(value_josiah_Mean_variance)\n",
    "print(value_josiah_Three_Factor)\n",
    "print(value_josiah_Five_Factor)"
   ]
  },
  {
   "cell_type": "code",
   "execution_count": 114,
   "metadata": {
    "collapsed": false
   },
   "outputs": [
    {
     "data": {
      "image/png": "[encoded data removed]",
      "text/plain": [
       "<matplotlib.figure.Figure at 0x10c493f10>"
      ]
     },
     "metadata": {},
     "output_type": "display_data"
    }
   ],
   "source": [
    "plt.plot(range(1990, 2016), value_3factor, label=\"CS 3-factor model\")\n",
    "plt.plot(range(1990, 2016), value_equal, label = \"Equally distributed\")\n",
    "plt.plot(range(1990, 2016), value_bond, label = \"With bond\")\n",
    "plt.plot(range(1990, 2016), value_josiah_Mean_variance, label = \"Mean-variance\")\n",
    "plt.plot(range(1990, 2016), value_josiah_Three_Factor, label = \"Fama-French 3-factor\")\n",
    "plt.plot(range(1990, 2016), value_josiah_Five_Factor, label = \"Fama-French 5-factor\")\n",
    "#print monthly_return_year.mean(axis = 0) - monthly_return_equal_year.mean(axis = 0)\n",
    "plt.legend()\n",
    "plt.ylabel('Cumulative value')\n",
    "plt.xlabel('Year')\n",
    "plt.xlim((1990, 2015))\n",
    "plt.ylim((0, 120))\n",
    "plt.savefig('cumulative_value.jpg', dpi=600)\n",
    "plt.show()\n",
    "plt.close(\"all\")"
   ]
  },
  {
   "cell_type": "code",
   "execution_count": null,
   "metadata": {
    "collapsed": true
   },
   "outputs": [],
   "source": []
  }
 ],
 "metadata": {
  "kernelspec": {
   "display_name": "Python 2",
   "language": "python",
   "name": "python2"
  },
  "language_info": {
   "codemirror_mode": {
    "name": "ipython",
    "version": 2
   },
   "file_extension": ".py",
   "mimetype": "text/x-python",
   "name": "python",
   "nbconvert_exporter": "python",
   "pygments_lexer": "ipython2",
   "version": "2.7.13"
  }
 },
 "nbformat": 4,
 "nbformat_minor": 2
}
