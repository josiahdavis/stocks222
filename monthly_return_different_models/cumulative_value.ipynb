{
 "cells": [
  {
   "cell_type": "code",
   "execution_count": 1,
   "metadata": {
    "collapsed": true
   },
   "outputs": [],
   "source": [
    "import csv\n",
    "import numpy as np\n",
    "import matplotlib.pyplot as plt"
   ]
  },
  {
   "cell_type": "code",
   "execution_count": 11,
   "metadata": {
    "collapsed": true
   },
   "outputs": [],
   "source": [
    "return_equal_yearly = np.genfromtxt ('return_equal_yearly.csv', delimiter=\",\")\n",
    "return_3factor_yearly = np.genfromtxt('return_optimal_3factor_yearly.csv', delimiter = \",\")\n",
    "#return_equal_value_yearly = np.genfromtxt('return_equal_value_yearly.csv', delimiter = \",\")\n",
    "josiah_Five_Factor = np.genfromtxt('josiah_Five_Factor.csv', delimiter = \",\")\n",
    "josiah_Three_Factor = np.genfromtxt('josiah_Three_Factor.csv', delimiter = \",\")\n",
    "josiah_Mean_variance = np.genfromtxt('josiah_Mean_variance.csv', delimiter = \",\")\n",
    "zhenyuan_mean_variance = np.genfromtxt('return_optimal_mean_variance_yearly.csv', delimiter = \",\")\n",
    "value_bond = np.genfromtxt('Bond_Ladder_uncon_25y.csv', delimiter = \",\")"
   ]
  },
  {
   "cell_type": "code",
   "execution_count": 12,
   "metadata": {
    "collapsed": true
   },
   "outputs": [],
   "source": [
    "m_equal_25 = return_equal_yearly.mean()\n",
    "m_equal_5 = [return_equal_yearly[:,i*5:(i+1)*5].mean() for i in range(5)]\n",
    "sigma_equal_25 = return_equal_yearly.std()\n",
    "sigma_equal_5 = [return_equal_yearly[:,i*5:(i+1)*5].std() for i in range(5)]\n",
    "s_equal_25 = m_equal_25/sigma_equal_25\n",
    "s_equal_5 = [m_equal_5[i]/sigma_equal_5[i] for i in range(5)]"
   ]
  },
  {
   "cell_type": "code",
   "execution_count": 13,
   "metadata": {
    "collapsed": false
   },
   "outputs": [
    {
     "name": "stdout",
     "output_type": "stream",
     "text": [
      "0.01392133\n",
      "0.0429049443196\n",
      "0.324469131024\n",
      "[0.019632450000000003, 0.015115450000000001, 0.015022983333333332, 0.010116433333333332, 0.009719333333333335]\n",
      "[0.02757863227477933, 0.038996474195079484, 0.040995205953660678, 0.061207800248107451, 0.037795146331536043]\n",
      "[0.71187177828082093, 0.3876106830680412, 0.36645707672050004, 0.16528013247210485, 0.25715824058666448]\n"
     ]
    }
   ],
   "source": [
    "print(m_equal_25)\n",
    "print(sigma_equal_25)\n",
    "print(s_equal_25)\n",
    "print(m_equal_5)\n",
    "print(sigma_equal_5)\n",
    "print(s_equal_5)"
   ]
  },
  {
   "cell_type": "code",
   "execution_count": 14,
   "metadata": {
    "collapsed": false
   },
   "outputs": [],
   "source": [
    "m_3factor_25 = return_3factor_yearly.mean()\n",
    "m_3factor_5 = [return_3factor_yearly[:,i*5:(i+1)*5].mean() for i in range(5)]\n",
    "sigma_3factor_25 = return_3factor_yearly.std()\n",
    "sigma_3factor_5 = [return_3factor_yearly[:,i*5:(i+1)*5].std() for i in range(5)]\n",
    "s_3factor_25 = m_3factor_25/sigma_3factor_25\n",
    "s_3factor_5 = [m_3factor_5[i]/sigma_3factor_5[i] for i in range(5)]"
   ]
  },
  {
   "cell_type": "code",
   "execution_count": 15,
   "metadata": {
    "collapsed": false
   },
   "outputs": [
    {
     "name": "stdout",
     "output_type": "stream",
     "text": [
      "0.01727838\n",
      "0.0468026318853\n",
      "0.369175392579\n",
      "[0.028860683333333335, 0.01688478333333333, 0.018945333333333331, 0.011701733333333334, 0.0099993666666666672]\n",
      "[0.040033419899916815, 0.045394665743194854, 0.045329783677205235, 0.060747765008233479, 0.036370794643489565]\n",
      "[0.72091476085442563, 0.37195522991298907, 0.41794449027693636, 0.19262821161811194, 0.27492846292420975]\n"
     ]
    }
   ],
   "source": [
    "print(m_3factor_25)\n",
    "print(sigma_3factor_25)\n",
    "print(s_3factor_25)\n",
    "print(m_3factor_5)\n",
    "print(sigma_3factor_5)\n",
    "print(s_3factor_5)"
   ]
  },
  {
   "cell_type": "code",
   "execution_count": 16,
   "metadata": {
    "collapsed": false
   },
   "outputs": [],
   "source": [
    "# cumulative valur plot\n",
    "value_equal = np.append([1], np.cumprod([np.product(return_equal_yearly[:,i] + 1) for i in range(25)]))\n",
    "value_3factor = np.append([1], np.cumprod([np.product(return_3factor_yearly[:,i] + 1)-0.01 for i in range(25)]))\n",
    "value_josiah_Mean_variance = np.append([1], np.cumprod([np.product(josiah_Mean_variance[:,i] + 1) for i in range(25)]))\n",
    "value_josiah_Three_Factor = np.append([1], np.cumprod([np.product(josiah_Three_Factor[:,i] + 1) for i in range(25)]))\n",
    "value_josiah_Five_Factor = np.append([1], np.cumprod([np.product(josiah_Five_Factor[:,i] + 1) for i in range(25)]))\n",
    "value_zhenyuan_mean_variance = np.append([1], np.cumprod([np.product(zhenyuan_mean_variance[:,i] + 1) for i in range(25)]))\n",
    "value_bond = np.append([1], value_bond)"
   ]
  },
  {
   "cell_type": "code",
   "execution_count": 17,
   "metadata": {
    "collapsed": false,
    "scrolled": true
   },
   "outputs": [
    {
     "name": "stdout",
     "output_type": "stream",
     "text": [
      "[  1.           1.45340551   1.8357727    2.3025065    2.34968305\n",
      "   3.14124211   3.94617457   5.32639921   5.57186485   6.05769723\n",
      "   7.38502226   8.67308531   8.47542764  12.36350493  15.36084318\n",
      "  17.18885094  20.7885842   21.94188821  14.86684916  21.94025906\n",
      "  28.07614451  28.50581651  33.99420538  46.11222163  50.40723929\n",
      "  48.09606539]\n",
      "[  1.           1.18195007   1.32980924   1.63529831   1.62782021\n",
      "   1.95546418   2.28594644   3.15710882   3.64964384   3.57455979\n",
      "   4.13828335   4.82844015   5.07336985   7.26509311  11.41362742\n",
      "  11.48387723  13.85423394  14.66954065  11.46259609  12.15412015\n",
      "  14.17768933  15.81451609  18.71382898  23.4957329   25.18737725\n",
      "  28.43354016]\n",
      "[   1.            1.64516653    2.26764256    3.57929762    3.81809586\n",
      "    5.08189266    6.39089516    8.93742461    9.37512024   10.05185108\n",
      "   12.51978887   15.13474566   14.37793728   24.11342837   31.86647605\n",
      "   34.87125113   43.02826599   46.68499792   29.85982691   45.47798982\n",
      "   59.837455     62.43995494   70.11354792   96.61502688  103.13510897\n",
      "   99.93195597]\n",
      "[  1.           1.21213252   1.33950949   1.66381865   1.62336449\n",
      "   1.99393616   2.36086128   3.37450317   3.99289646   3.92466616\n",
      "   4.80985159   5.68797178   5.92804601   8.76122918  11.95098473\n",
      "  12.35505433  15.08622167  16.45043572  12.75285175  13.91043482\n",
      "  16.42844316  18.49275664  22.09724611  28.23863948  31.11195286\n",
      "  35.24204427]\n",
      "[  1.           1.38719804   1.63110494   1.8774721    1.85040974\n",
      "   2.44172093   2.98680347   4.08756257   4.4568628    4.46056521\n",
      "   5.5062807    6.12284626   5.99894512   8.13220482   9.95584379\n",
      "  11.03387223  13.26479043  13.90038669   9.95529008  13.18593468\n",
      "  16.12996321  17.08293656  19.58089635  25.79308772  28.81374807\n",
      "  28.59545906]\n",
      "[  1.           1.38144544   1.62373142   1.86971715   1.84266851\n",
      "   2.43190436   2.97489785   4.07246339   4.44336763   4.44415507\n",
      "   5.48452366   6.09080298   5.97194576   8.09315738   9.90830057\n",
      "  10.97814574  13.18155228  13.82957095   9.89532464  13.11413346\n",
      "  16.0464189   16.99281721  19.47888762  25.63460642  28.69493189\n",
      "  28.52402604]\n"
     ]
    }
   ],
   "source": [
    "print(value_equal)\n",
    "print(value_bond)\n",
    "print(value_3factor)\n",
    "print(value_josiah_Mean_variance)\n",
    "#print(value_zhenyuan_mean_variance)\n",
    "print(value_josiah_Three_Factor)\n",
    "print(value_josiah_Five_Factor)"
   ]
  },
  {
   "cell_type": "code",
   "execution_count": 22,
   "metadata": {
    "collapsed": false
   },
   "outputs": [
    {
     "ename": "TypeError",
     "evalue": "zip argument #2 must support iteration",
     "output_type": "error",
     "traceback": [
      "\u001b[0;31m---------------------------------------------------------------------------\u001b[0m",
      "\u001b[0;31mTypeError\u001b[0m                                 Traceback (most recent call last)",
      "\u001b[0;32m<ipython-input-22-7ec2162c24b1>\u001b[0m in \u001b[0;36m<module>\u001b[0;34m()\u001b[0m\n\u001b[1;32m      7\u001b[0m \u001b[0mplt\u001b[0m\u001b[0;34m.\u001b[0m\u001b[0mplot\u001b[0m\u001b[0;34m(\u001b[0m\u001b[0mrange\u001b[0m\u001b[0;34m(\u001b[0m\u001b[0;36m1990\u001b[0m\u001b[0;34m,\u001b[0m \u001b[0;36m2016\u001b[0m\u001b[0;34m)\u001b[0m\u001b[0;34m,\u001b[0m \u001b[0mvalue_josiah_Five_Factor\u001b[0m\u001b[0;34m,\u001b[0m \u001b[0mlabel\u001b[0m \u001b[0;34m=\u001b[0m \u001b[0;34m\"Fama-French 5-factor\"\u001b[0m\u001b[0;34m)\u001b[0m\u001b[0;34m\u001b[0m\u001b[0m\n\u001b[1;32m      8\u001b[0m \u001b[0;31m#print monthly_return_year.mean(axis = 0) - monthly_return_equal_year.mean(axis = 0)\u001b[0m\u001b[0;34m\u001b[0m\u001b[0;34m\u001b[0m\u001b[0m\n\u001b[0;32m----> 9\u001b[0;31m \u001b[0mplt\u001b[0m\u001b[0;34m.\u001b[0m\u001b[0mlegend\u001b[0m\u001b[0;34m(\u001b[0m\u001b[0;34m'loc'\u001b[0m\u001b[0;34m,\u001b[0m \u001b[0;36m2\u001b[0m\u001b[0;34m)\u001b[0m\u001b[0;34m\u001b[0m\u001b[0m\n\u001b[0m\u001b[1;32m     10\u001b[0m \u001b[0mplt\u001b[0m\u001b[0;34m.\u001b[0m\u001b[0mylabel\u001b[0m\u001b[0;34m(\u001b[0m\u001b[0;34m'Cumulative value (dollar)'\u001b[0m\u001b[0;34m)\u001b[0m\u001b[0;34m\u001b[0m\u001b[0m\n\u001b[1;32m     11\u001b[0m \u001b[0mplt\u001b[0m\u001b[0;34m.\u001b[0m\u001b[0mxlabel\u001b[0m\u001b[0;34m(\u001b[0m\u001b[0;34m'Year'\u001b[0m\u001b[0;34m)\u001b[0m\u001b[0;34m\u001b[0m\u001b[0m\n",
      "\u001b[0;32m/Users/zhenyuanliu/anaconda/lib/python3.5/site-packages/matplotlib/pyplot.py\u001b[0m in \u001b[0;36mlegend\u001b[0;34m(*args, **kwargs)\u001b[0m\n\u001b[1;32m   3558\u001b[0m \u001b[0;34m@\u001b[0m\u001b[0mdocstring\u001b[0m\u001b[0;34m.\u001b[0m\u001b[0mcopy_dedent\u001b[0m\u001b[0;34m(\u001b[0m\u001b[0mAxes\u001b[0m\u001b[0;34m.\u001b[0m\u001b[0mlegend\u001b[0m\u001b[0;34m)\u001b[0m\u001b[0;34m\u001b[0m\u001b[0m\n\u001b[1;32m   3559\u001b[0m \u001b[0;32mdef\u001b[0m \u001b[0mlegend\u001b[0m\u001b[0;34m(\u001b[0m\u001b[0;34m*\u001b[0m\u001b[0margs\u001b[0m\u001b[0;34m,\u001b[0m \u001b[0;34m**\u001b[0m\u001b[0mkwargs\u001b[0m\u001b[0;34m)\u001b[0m\u001b[0;34m:\u001b[0m\u001b[0;34m\u001b[0m\u001b[0m\n\u001b[0;32m-> 3560\u001b[0;31m     \u001b[0mret\u001b[0m \u001b[0;34m=\u001b[0m \u001b[0mgca\u001b[0m\u001b[0;34m(\u001b[0m\u001b[0;34m)\u001b[0m\u001b[0;34m.\u001b[0m\u001b[0mlegend\u001b[0m\u001b[0;34m(\u001b[0m\u001b[0;34m*\u001b[0m\u001b[0margs\u001b[0m\u001b[0;34m,\u001b[0m \u001b[0;34m**\u001b[0m\u001b[0mkwargs\u001b[0m\u001b[0;34m)\u001b[0m\u001b[0;34m\u001b[0m\u001b[0m\n\u001b[0m\u001b[1;32m   3561\u001b[0m     \u001b[0;32mreturn\u001b[0m \u001b[0mret\u001b[0m\u001b[0;34m\u001b[0m\u001b[0m\n\u001b[1;32m   3562\u001b[0m \u001b[0;34m\u001b[0m\u001b[0m\n",
      "\u001b[0;32m/Users/zhenyuanliu/anaconda/lib/python3.5/site-packages/matplotlib/axes/_axes.py\u001b[0m in \u001b[0;36mlegend\u001b[0;34m(self, *args, **kwargs)\u001b[0m\n\u001b[1;32m    548\u001b[0m             \u001b[0;32mraise\u001b[0m \u001b[0mTypeError\u001b[0m\u001b[0;34m(\u001b[0m\u001b[0;34m'Invalid arguments to legend.'\u001b[0m\u001b[0;34m)\u001b[0m\u001b[0;34m\u001b[0m\u001b[0m\n\u001b[1;32m    549\u001b[0m \u001b[0;34m\u001b[0m\u001b[0m\n\u001b[0;32m--> 550\u001b[0;31m         \u001b[0mself\u001b[0m\u001b[0;34m.\u001b[0m\u001b[0mlegend_\u001b[0m \u001b[0;34m=\u001b[0m \u001b[0mmlegend\u001b[0m\u001b[0;34m.\u001b[0m\u001b[0mLegend\u001b[0m\u001b[0;34m(\u001b[0m\u001b[0mself\u001b[0m\u001b[0;34m,\u001b[0m \u001b[0mhandles\u001b[0m\u001b[0;34m,\u001b[0m \u001b[0mlabels\u001b[0m\u001b[0;34m,\u001b[0m \u001b[0;34m**\u001b[0m\u001b[0mkwargs\u001b[0m\u001b[0;34m)\u001b[0m\u001b[0;34m\u001b[0m\u001b[0m\n\u001b[0m\u001b[1;32m    551\u001b[0m         \u001b[0mself\u001b[0m\u001b[0;34m.\u001b[0m\u001b[0mlegend_\u001b[0m\u001b[0;34m.\u001b[0m\u001b[0m_remove_method\u001b[0m \u001b[0;34m=\u001b[0m \u001b[0;32mlambda\u001b[0m \u001b[0mh\u001b[0m\u001b[0;34m:\u001b[0m \u001b[0msetattr\u001b[0m\u001b[0;34m(\u001b[0m\u001b[0mself\u001b[0m\u001b[0;34m,\u001b[0m \u001b[0;34m'legend_'\u001b[0m\u001b[0;34m,\u001b[0m \u001b[0;32mNone\u001b[0m\u001b[0;34m)\u001b[0m\u001b[0;34m\u001b[0m\u001b[0m\n\u001b[1;32m    552\u001b[0m         \u001b[0;32mreturn\u001b[0m \u001b[0mself\u001b[0m\u001b[0;34m.\u001b[0m\u001b[0mlegend_\u001b[0m\u001b[0;34m\u001b[0m\u001b[0m\n",
      "\u001b[0;32m/Users/zhenyuanliu/anaconda/lib/python3.5/site-packages/matplotlib/legend.py\u001b[0m in \u001b[0;36m__init__\u001b[0;34m(self, parent, handles, labels, loc, numpoints, markerscale, markerfirst, scatterpoints, scatteryoffsets, prop, fontsize, borderpad, labelspacing, handlelength, handleheight, handletextpad, borderaxespad, columnspacing, ncol, mode, fancybox, shadow, title, framealpha, bbox_to_anchor, bbox_transform, frameon, handler_map)\u001b[0m\n\u001b[1;32m    383\u001b[0m \u001b[0;34m\u001b[0m\u001b[0m\n\u001b[1;32m    384\u001b[0m         \u001b[0;31m# init with null renderer\u001b[0m\u001b[0;34m\u001b[0m\u001b[0;34m\u001b[0m\u001b[0m\n\u001b[0;32m--> 385\u001b[0;31m         \u001b[0mself\u001b[0m\u001b[0;34m.\u001b[0m\u001b[0m_init_legend_box\u001b[0m\u001b[0;34m(\u001b[0m\u001b[0mhandles\u001b[0m\u001b[0;34m,\u001b[0m \u001b[0mlabels\u001b[0m\u001b[0;34m,\u001b[0m \u001b[0mmarkerfirst\u001b[0m\u001b[0;34m)\u001b[0m\u001b[0;34m\u001b[0m\u001b[0m\n\u001b[0m\u001b[1;32m    386\u001b[0m \u001b[0;34m\u001b[0m\u001b[0m\n\u001b[1;32m    387\u001b[0m         \u001b[0;32mif\u001b[0m \u001b[0mframealpha\u001b[0m \u001b[0;32mis\u001b[0m \u001b[0;32mNone\u001b[0m\u001b[0;34m:\u001b[0m\u001b[0;34m\u001b[0m\u001b[0m\n",
      "\u001b[0;32m/Users/zhenyuanliu/anaconda/lib/python3.5/site-packages/matplotlib/legend.py\u001b[0m in \u001b[0;36m_init_legend_box\u001b[0;34m(self, handles, labels, markerfirst)\u001b[0m\n\u001b[1;32m    624\u001b[0m         \u001b[0mlegend_handler_map\u001b[0m \u001b[0;34m=\u001b[0m \u001b[0mself\u001b[0m\u001b[0;34m.\u001b[0m\u001b[0mget_legend_handler_map\u001b[0m\u001b[0;34m(\u001b[0m\u001b[0;34m)\u001b[0m\u001b[0;34m\u001b[0m\u001b[0m\n\u001b[1;32m    625\u001b[0m \u001b[0;34m\u001b[0m\u001b[0m\n\u001b[0;32m--> 626\u001b[0;31m         \u001b[0;32mfor\u001b[0m \u001b[0morig_handle\u001b[0m\u001b[0;34m,\u001b[0m \u001b[0mlab\u001b[0m \u001b[0;32min\u001b[0m \u001b[0mzip\u001b[0m\u001b[0;34m(\u001b[0m\u001b[0mhandles\u001b[0m\u001b[0;34m,\u001b[0m \u001b[0mlabels\u001b[0m\u001b[0;34m)\u001b[0m\u001b[0;34m:\u001b[0m\u001b[0;34m\u001b[0m\u001b[0m\n\u001b[0m\u001b[1;32m    627\u001b[0m             \u001b[0mhandler\u001b[0m \u001b[0;34m=\u001b[0m \u001b[0mself\u001b[0m\u001b[0;34m.\u001b[0m\u001b[0mget_legend_handler\u001b[0m\u001b[0;34m(\u001b[0m\u001b[0mlegend_handler_map\u001b[0m\u001b[0;34m,\u001b[0m \u001b[0morig_handle\u001b[0m\u001b[0;34m)\u001b[0m\u001b[0;34m\u001b[0m\u001b[0m\n\u001b[1;32m    628\u001b[0m             \u001b[0;32mif\u001b[0m \u001b[0mhandler\u001b[0m \u001b[0;32mis\u001b[0m \u001b[0;32mNone\u001b[0m\u001b[0;34m:\u001b[0m\u001b[0;34m\u001b[0m\u001b[0m\n",
      "\u001b[0;31mTypeError\u001b[0m: zip argument #2 must support iteration"
     ]
    }
   ],
   "source": [
    "plt.plot(range(1990, 2016), value_3factor, label=\"CS 3-factor model\")\n",
    "plt.plot(range(1990, 2016), value_equal, label = \"Equally distributed\")\n",
    "plt.plot(range(1990, 2016), value_bond, label = \"With bond\")\n",
    "plt.plot(range(1990, 2016), value_josiah_Mean_variance, label = \"Mean-variance\")\n",
    "#plt.plot(range(1990, 2016),value_zhenyuan_mean_variance, label = \"Mean-variance\")\n",
    "plt.plot(range(1990, 2016), value_josiah_Three_Factor, label = \"Fama-French 3-factor\")\n",
    "plt.plot(range(1990, 2016), value_josiah_Five_Factor, label = \"Fama-French 5-factor\")\n",
    "#print monthly_return_year.mean(axis = 0) - monthly_return_equal_year.mean(axis = 0)\n",
    "plt.legend('loc', 2)\n",
    "plt.ylabel('Cumulative value (dollar)')\n",
    "plt.xlabel('Year')\n",
    "plt.xlim((1990, 2015))\n",
    "plt.ylim((0, 120))\n",
    "plt.savefig('cumulative_value.jpg', dpi=600)\n",
    "plt.show()\n",
    "plt.close(\"all\")"
   ]
  },
  {
   "cell_type": "code",
   "execution_count": null,
   "metadata": {
    "collapsed": true
   },
   "outputs": [],
   "source": []
  },
  {
   "cell_type": "code",
   "execution_count": null,
   "metadata": {
    "collapsed": true
   },
   "outputs": [],
   "source": []
  },
  {
   "cell_type": "code",
   "execution_count": null,
   "metadata": {
    "collapsed": true
   },
   "outputs": [],
   "source": []
  }
 ],
 "metadata": {
  "anaconda-cloud": {},
  "kernelspec": {
   "display_name": "Python [default]",
   "language": "python",
   "name": "python3"
  },
  "language_info": {
   "codemirror_mode": {
    "name": "ipython",
    "version": 3
   },
   "file_extension": ".py",
   "mimetype": "text/x-python",
   "name": "python",
   "nbconvert_exporter": "python",
   "pygments_lexer": "ipython3",
   "version": "3.5.2"
  }
 },
 "nbformat": 4,
 "nbformat_minor": 2
}
